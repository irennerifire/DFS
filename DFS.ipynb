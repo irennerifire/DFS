{
 "cells": [
  {
   "cell_type": "code",
   "execution_count": null,
   "metadata": {},
   "outputs": [],
   "source": [
    "import os\n",
    "import pandas as pd\n",
    "import torch\n",
    "import sklearn\n",
    "import torch.nn as nn\n",
    "import torch.nn.functional as F\n",
    "from sklearn.linear_model import ElasticNet\n",
    "import dask.dataframe as dd\n",
    "import numpy as np"
   ]
  },
  {
   "cell_type": "code",
   "execution_count": null,
   "metadata": {},
   "outputs": [],
   "source": [
    "df = pd.read_csv(\"trainR.csv\")\n",
    "#Разделить на тестовую и тренировочную выборки!\n",
    "train_tensor = torch.tensor(df.values)"
   ]
  },
  {
   "cell_type": "code",
   "execution_count": null,
   "metadata": {},
   "outputs": [],
   "source": [
    "matr = df.iloc[:, 1:1525]\n",
    "y = df.iloc[:, 1526]\n",
    "matr_tensor = torch.tensor(matr.values)\n",
    "y_tensor = torch.tensor(y.values)\n",
    "ns = np.random.randint(1, 40[, 4])\n",
    "ns = np.array([np.random.randint(1,10) for i in range(200)])\n",
    "ns = np.array([np.random.randint(5,11) for i in range(200)])\n"
   ]
  },
  {
   "cell_type": "code",
   "execution_count": null,
   "metadata": {},
   "outputs": [],
   "source": [
    "from sklearn.linear_model import ElasticNet\n",
    "\n",
    "enet = ElasticNet(alpha=alpha, l1_ratio=0.7)\n",
    "\n",
    "y_pred_enet = enet.fit(matr, y).predict(test)\n",
    "r2_score_enet = r2_score(y_test, y_pred_enet)\n",
    "print(enet)\n",
    "print(\"r^2 on test data : %f\" % r2_score_enet)\n",
    "\n",
    "\n",
    "#Weigted layer\n",
    "class WL(nn.Module):\n",
    "    def __init__\n",
    "\n",
    "class MLP(nn.Module):\n",
    "    def __init__(self):\n",
    "        super(Net, self):\n",
    "        #self.fc1 = Weighted_layer(размер входных данных из датасета = кол-во признаков, 200)\n",
    "        self.fc2 = nn.Linear(200, 200, bias=True)\n",
    "        self.fc3 = nn.Linear(200, 200, bias=True)\n",
    "        self.fc4 = nn.Linear(200, кол-во предсказываемых значений)\n",
    "\n",
    "def forward(self, x):\n",
    "    x = F.sigmoid(self.fc1(x))\n",
    "    x = F.sigmoid(self.fc2(x))\n",
    "    x = F.sigmoid(self.fc3(x))\n",
    "    x = self.fc1(x)\n",
    "    return F.log_softmax(x)\n"
   ]
  },
  {
   "cell_type": "code",
   "execution_count": null,
   "metadata": {},
   "outputs": [],
   "source": [
    "# L1 L2 normalization\n",
    "# reg_lambda=1.0\n",
    "# l2_reg = None\n",
    "# for W in mdl.parameters():\n",
    "#     if l2_reg is None:\n",
    "#         l2_reg = W.norm(2)**2 #torch.pow(W, 2).sum()\n",
    "#     else:\n",
    "#         l2_reg = l2_reg + W.norm(2)\n",
    "# batch_loss = (1/N_train)*(y_pred - batch_ys).pow(2).sum() + l2_reg * reg_lambda\n",
    "# batch_loss.backward()\n",
    "# \n",
    "# ## SGD update\n",
    "# for W in mdl.parameters():\n",
    "#     delta = eta*W.grad.data\n",
    "#     W.data.copy_(W.data - delta) # W - eta*g + A*gdl_eps\n"
   ]
  }
 ],
 "metadata": {
  "kernelspec": {
   "display_name": "Python 3",
   "language": "python",
   "name": "python3"
  },
  "language_info": {
   "codemirror_mode": {
    "name": "ipython",
    "version": 3
   },
   "file_extension": ".py",
   "mimetype": "text/x-python",
   "name": "python",
   "nbconvert_exporter": "python",
   "pygments_lexer": "ipython3",
   "version": "3.6.5"
  }
 },
 "nbformat": 4,
 "nbformat_minor": 2
}
